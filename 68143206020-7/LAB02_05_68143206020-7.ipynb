{
 "cells": [
  {
   "cell_type": "code",
   "execution_count": 2,
   "id": "d079af48",
   "metadata": {},
   "outputs": [
    {
     "name": "stdout",
     "output_type": "stream",
     "text": [
      "สถานะ: username นี้ใช้งานไม่ได้(ต้องมีความยาว 5-20 ตัวอักษร แต่ตอนนี้ยาว 29 ตัวอักษร)\n",
      "--------------------------------------------------\n"
     ]
    }
   ],
   "source": [
    "Username = input(\"username\")\n",
    "\n",
    "formatted_user = Username.strip().lower().replace('','_')\n",
    "\n",
    "num_username = len(formatted_user)\n",
    "\n",
    "\n",
    "if 5 <= num_username <= 20:\n",
    "   print(\"สถานะ: username นี้ใช้ได้\") \n",
    "else:\n",
    "   print(f\"สถานะ: username นี้ใช้งานไม่ได้(ต้องมีความยาว 5-20 ตัวอักษร แต่ตอนนี้ยาว {num_username} ตัวอักษร)\")\n",
    "print(\"-\" * 50)"
   ]
  }
 ],
 "metadata": {
  "kernelspec": {
   "display_name": "Python 3",
   "language": "python",
   "name": "python3"
  },
  "language_info": {
   "codemirror_mode": {
    "name": "ipython",
    "version": 3
   },
   "file_extension": ".py",
   "mimetype": "text/x-python",
   "name": "python",
   "nbconvert_exporter": "python",
   "pygments_lexer": "ipython3",
   "version": "3.11.2"
  }
 },
 "nbformat": 4,
 "nbformat_minor": 5
}
