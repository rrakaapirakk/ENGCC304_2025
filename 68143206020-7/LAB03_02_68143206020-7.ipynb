{
 "cells": [
  {
   "cell_type": "code",
   "execution_count": 3,
   "id": "b1168704",
   "metadata": {},
   "outputs": [
    {
     "name": "stdout",
     "output_type": "stream",
     "text": [
      "ผ่าน False\n"
     ]
    }
   ],
   "source": [
    "score =float(input(\"\")) \n",
    "homework_submitted = True\n",
    "is_eligible = (score>80)and(homework_submitted==True)\n",
    "print(\"ผ่าน\", is_eligible)\n",
    "#ถ้าเปลี่ยน and เป็น or ก็จะเปลี่ยนจากต้องมีทั้งสองเงื่อนไขเป็นขอแค่มีหนึ่งเงื่อนไข "
   ]
  }
 ],
 "metadata": {
  "kernelspec": {
   "display_name": "Python 3",
   "language": "python",
   "name": "python3"
  },
  "language_info": {
   "codemirror_mode": {
    "name": "ipython",
    "version": 3
   },
   "file_extension": ".py",
   "mimetype": "text/x-python",
   "name": "python",
   "nbconvert_exporter": "python",
   "pygments_lexer": "ipython3",
   "version": "3.11.2"
  }
 },
 "nbformat": 4,
 "nbformat_minor": 5
}
