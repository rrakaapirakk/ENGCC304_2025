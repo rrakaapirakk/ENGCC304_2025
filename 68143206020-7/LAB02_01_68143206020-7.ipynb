{
 "cells": [
  {
   "cell_type": "code",
   "execution_count": null,
   "id": "c50f1f5c",
   "metadata": {},
   "outputs": [
    {
     "name": "stdout",
     "output_type": "stream",
     "text": [
      "ชื่่อapirak. ชอบกินrice. ชอบหนังเรื่อง. เวลาว่างชอบgame.\n"
     ]
    }
   ],
   "source": [
    "name = input (\"\")\n",
    "favorite_food = input (\"\")\n",
    "favorite_movie = input (\"\")\n",
    "hobby = input (\"\")\n",
    "print(f\"ชื่่อ {name}. ชอบกิน {favorite_food}. ชอบหนังเรื่อง {favorite_movie}. เวลาว่างชอบ {hobby}.\")\n"
   ]
  }
 ],
 "metadata": {
  "kernelspec": {
   "display_name": "Python 3",
   "language": "python",
   "name": "python3"
  },
  "language_info": {
   "codemirror_mode": {
    "name": "ipython",
    "version": 3
   },
   "file_extension": ".py",
   "mimetype": "text/x-python",
   "name": "python",
   "nbconvert_exporter": "python",
   "pygments_lexer": "ipython3",
   "version": "3.11.2"
  }
 },
 "nbformat": 4,
 "nbformat_minor": 5
}
