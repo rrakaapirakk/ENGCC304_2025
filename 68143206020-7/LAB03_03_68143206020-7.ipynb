{
 "cells": [
  {
   "cell_type": "code",
   "execution_count": 4,
   "id": "e7a2bf72",
   "metadata": {},
   "outputs": [
    {
     "name": "stdout",
     "output_type": "stream",
     "text": [
      "ราคาตั๋วคือ 100 บาท\n"
     ]
    }
   ],
   "source": [
    "age = int(input(\"\"))\n",
    "child = age <= 12\n",
    "price =(not child)*100 + child*50\n",
    "print(\"ราคาตั๋วคือ\", int(price),\"บาท\")"
   ]
  }
 ],
 "metadata": {
  "kernelspec": {
   "display_name": "Python 3",
   "language": "python",
   "name": "python3"
  },
  "language_info": {
   "codemirror_mode": {
    "name": "ipython",
    "version": 3
   },
   "file_extension": ".py",
   "mimetype": "text/x-python",
   "name": "python",
   "nbconvert_exporter": "python",
   "pygments_lexer": "ipython3",
   "version": "3.11.2"
  }
 },
 "nbformat": 4,
 "nbformat_minor": 5
}
