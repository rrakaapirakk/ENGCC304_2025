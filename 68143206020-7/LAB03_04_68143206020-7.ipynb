{
 "cells": [
  {
   "cell_type": "code",
   "execution_count": 1,
   "id": "ece0d527",
   "metadata": {},
   "outputs": [
    {
     "name": "stdout",
     "output_type": "stream",
     "text": [
      "\n",
      " ใบเสร็จ\n",
      "รายการ:gg\n",
      "ราคาสุทธิ:500.00 บาท\n"
     ]
    }
   ],
   "source": [
    "item_name = input(\"\")\n",
    "price =float(input(\"\"))\n",
    "amout = int(input(\"\"))\n",
    "total = price * amout\n",
    "print(f\"\\n ใบเสร็จ\")\n",
    "print(f\"รายการ:{item_name}\")\n",
    "print(f\"ราคาสุทธิ:{total:.2f} บาท\")"
   ]
  }
 ],
 "metadata": {
  "kernelspec": {
   "display_name": "Python 3",
   "language": "python",
   "name": "python3"
  },
  "language_info": {
   "codemirror_mode": {
    "name": "ipython",
    "version": 3
   },
   "file_extension": ".py",
   "mimetype": "text/x-python",
   "name": "python",
   "nbconvert_exporter": "python",
   "pygments_lexer": "ipython3",
   "version": "3.11.2"
  }
 },
 "nbformat": 4,
 "nbformat_minor": 5
}
