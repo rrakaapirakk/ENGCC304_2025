{
 "cells": [
  {
   "cell_type": "code",
   "execution_count": 6,
   "id": "a670d650",
   "metadata": {},
   "outputs": [
    {
     "name": "stdout",
     "output_type": "stream",
     "text": [
      "เกิดข้อผิดพลาดในหารคำนวน\n"
     ]
    }
   ],
   "source": [
    "try:\n",
    "    number = input (\"\")\n",
    "    float_number = float (number)\n",
    "    number2 = input(\"\")\n",
    "    float_number2 = float (number2)\n",
    "    total = float_number / float_number2\n",
    "    print(f\"ผลลัพธ์การหาร {total} \")\n",
    "except ValueError:  \n",
    "    print(\"ข้อมูลไม่ถูกต้องกรุณาป้อนเป็นตัวเลขเท่านั้น\")   \n",
    "except ZeroDivisionError:\n",
    "    print(\"เกิดข้อผิดพลาดในหารคำนวน\")\n",
    "    "
   ]
  }
 ],
 "metadata": {
  "kernelspec": {
   "display_name": "Python 3",
   "language": "python",
   "name": "python3"
  },
  "language_info": {
   "codemirror_mode": {
    "name": "ipython",
    "version": 3
   },
   "file_extension": ".py",
   "mimetype": "text/x-python",
   "name": "python",
   "nbconvert_exporter": "python",
   "pygments_lexer": "ipython3",
   "version": "3.11.2"
  }
 },
 "nbformat": 4,
 "nbformat_minor": 5
}
