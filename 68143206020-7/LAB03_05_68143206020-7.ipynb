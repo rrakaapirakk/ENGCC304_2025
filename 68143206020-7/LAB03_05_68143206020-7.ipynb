{
 "cells": [
  {
   "cell_type": "code",
   "execution_count": 11,
   "id": "432fa0ed",
   "metadata": {},
   "outputs": [
    {
     "name": "stdout",
     "output_type": "stream",
     "text": [
      "ชื่อที่แนะนำคือ:api25\n"
     ]
    }
   ],
   "source": [
    "frist_name=input(\"\")\n",
    "year=input(\"\")\n",
    "name_part=frist_name[0:3].lower()\n",
    "year_part=year[0:2]\n",
    "user=name_part + year_part\n",
    "print(f\"ชื่อที่แนะนำคือ:{user}\")\n"
   ]
  }
 ],
 "metadata": {
  "kernelspec": {
   "display_name": "Python 3",
   "language": "python",
   "name": "python3"
  },
  "language_info": {
   "codemirror_mode": {
    "name": "ipython",
    "version": 3
   },
   "file_extension": ".py",
   "mimetype": "text/x-python",
   "name": "python",
   "nbconvert_exporter": "python",
   "pygments_lexer": "ipython3",
   "version": "3.11.2"
  }
 },
 "nbformat": 4,
 "nbformat_minor": 5
}
