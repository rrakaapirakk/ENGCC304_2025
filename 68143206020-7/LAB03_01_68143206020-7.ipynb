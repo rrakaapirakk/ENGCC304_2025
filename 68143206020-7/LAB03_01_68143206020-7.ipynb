{
 "cells": [
  {
   "cell_type": "code",
   "execution_count": 4,
   "id": "e32e08a3",
   "metadata": {},
   "outputs": [
    {
     "name": "stdout",
     "output_type": "stream",
     "text": [
      "ค่าBMIคือ 18.51851851851852\n"
     ]
    }
   ],
   "source": [
    "weight_kg = float(input(\"น้ำหนัก(kg):\"))\n",
    "height_cm = float(input(\"ส่วนสูง(cm):\"))\n",
    "height_m = height_cm/100\n",
    "bmi = weight_kg /(height_m**2)\n",
    "print(\"ค่าBMIคือ\",bmi)"
   ]
  }
 ],
 "metadata": {
  "kernelspec": {
   "display_name": "Python 3",
   "language": "python",
   "name": "python3"
  },
  "language_info": {
   "codemirror_mode": {
    "name": "ipython",
    "version": 3
   },
   "file_extension": ".py",
   "mimetype": "text/x-python",
   "name": "python",
   "nbconvert_exporter": "python",
   "pygments_lexer": "ipython3",
   "version": "3.11.2"
  }
 },
 "nbformat": 4,
 "nbformat_minor": 5
}
