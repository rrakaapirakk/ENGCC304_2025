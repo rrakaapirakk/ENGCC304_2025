{
 "cells": [
  {
   "cell_type": "code",
   "execution_count": 1,
   "id": "38894f47",
   "metadata": {},
   "outputs": [
    {
     "name": "stdout",
     "output_type": "stream",
     "text": [
      "{minutes}นาที\n",
      "{hour}ชั่วโมง\n"
     ]
    }
   ],
   "source": [
    "seconds = input (\"\")\n",
    "seconds_hr = int (seconds)\n",
    "minutes = seconds_hr // 60\n",
    "minutes_hr = int(minutes)\n",
    "print(\"{minutes}นาที\")\n",
    "hour = seconds_hr // 60\n",
    "hour_hr= int(hour)\n",
    "print(\"{hour}ชั่วโมง\")"
   ]
  }
 ],
 "metadata": {
  "kernelspec": {
   "display_name": "Python 3",
   "language": "python",
   "name": "python3"
  },
  "language_info": {
   "codemirror_mode": {
    "name": "ipython",
    "version": 3
   },
   "file_extension": ".py",
   "mimetype": "text/x-python",
   "name": "python",
   "nbconvert_exporter": "python",
   "pygments_lexer": "ipython3",
   "version": "3.11.2"
  }
 },
 "nbformat": 4,
 "nbformat_minor": 5
}
