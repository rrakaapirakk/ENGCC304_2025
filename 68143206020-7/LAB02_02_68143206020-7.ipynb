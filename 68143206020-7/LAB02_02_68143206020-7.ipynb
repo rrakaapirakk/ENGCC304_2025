{
 "cells": [
  {
   "cell_type": "code",
   "execution_count": 2,
   "id": "f17076ce",
   "metadata": {},
   "outputs": [
    {
     "name": "stdout",
     "output_type": "stream",
     "text": [
      "please enter a number\n"
     ]
    }
   ],
   "source": [
    "\n",
    "try:\n",
    "    price = input (\"\")\n",
    "    float_price = float(price)\n",
    "    amount = input(\"\")\n",
    "    int_amount = int(amount)\n",
    "    total_Price = float_price * int_amount\n",
    "    print(str , f\"ราคาสินค้าทั้งหมดคือ {total_Price:.2f}\")\n",
    "except:\n",
    "    print (f\"please enter a number\")\n",
    "\n",
    "\n",
    "\n",
    "\n"
   ]
  }
 ],
 "metadata": {
  "kernelspec": {
   "display_name": "Python 3",
   "language": "python",
   "name": "python3"
  },
  "language_info": {
   "codemirror_mode": {
    "name": "ipython",
    "version": 3
   },
   "file_extension": ".py",
   "mimetype": "text/x-python",
   "name": "python",
   "nbconvert_exporter": "python",
   "pygments_lexer": "ipython3",
   "version": "3.11.2"
  }
 },
 "nbformat": 4,
 "nbformat_minor": 5
}
